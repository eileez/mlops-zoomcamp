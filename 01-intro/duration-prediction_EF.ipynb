{
 "cells": [
  {
   "cell_type": "code",
   "execution_count": 1,
   "id": "b2bd82d7",
   "metadata": {},
   "outputs": [
    {
     "name": "stdout",
     "output_type": "stream",
     "text": [
      "Python 3.9.12\n"
     ]
    }
   ],
   "source": [
    "!python -V"
   ]
  },
  {
   "cell_type": "code",
   "execution_count": 2,
   "id": "41062d8a",
   "metadata": {},
   "outputs": [],
   "source": [
    "import pandas as pd\n",
    "import numpy as np\n",
    "import seaborn as sns\n",
    "import matplotlib.pyplot as plt\n",
    "import os"
   ]
  },
  {
   "cell_type": "markdown",
   "id": "38bc2e70",
   "metadata": {},
   "source": [
    "## Load data"
   ]
  },
  {
   "cell_type": "markdown",
   "id": "c225b036",
   "metadata": {},
   "source": [
    "Data information :\n",
    "- `lpep_pickup_datetime` : The date and time when the meter was engaged.\n",
    "- `lpep_dropoff_datetime` : The date and time when the meter was disengaged.\n",
    "- `PULocationID` : TLC Taxi Zone in which the taximeter was engaged. \n",
    "- `DOlocationID` : TLC Taxi Zone in which the taximeter was disengaged. \n",
    "- `trip_distance` : The elapsed trip distance in miles reported by the taximeter."
   ]
  },
  {
   "cell_type": "code",
   "execution_count": 3,
   "id": "0d137dc5",
   "metadata": {},
   "outputs": [
    {
     "name": "stdout",
     "output_type": "stream",
     "text": [
      "CPU times: user 46.8 ms, sys: 22.3 ms, total: 69.1 ms\n",
      "Wall time: 128 ms\n",
      "(76518, 20)\n"
     ]
    },
    {
     "data": {
      "application/vnd.microsoft.datawrangler.viewer.v0+json": {
       "columns": [
        {
         "name": "index",
         "rawType": "int64",
         "type": "integer"
        },
        {
         "name": "VendorID",
         "rawType": "int64",
         "type": "integer"
        },
        {
         "name": "lpep_pickup_datetime",
         "rawType": "datetime64[ns]",
         "type": "datetime"
        },
        {
         "name": "lpep_dropoff_datetime",
         "rawType": "datetime64[ns]",
         "type": "datetime"
        },
        {
         "name": "store_and_fwd_flag",
         "rawType": "object",
         "type": "string"
        },
        {
         "name": "RatecodeID",
         "rawType": "float64",
         "type": "float"
        },
        {
         "name": "PULocationID",
         "rawType": "int64",
         "type": "integer"
        },
        {
         "name": "DOLocationID",
         "rawType": "int64",
         "type": "integer"
        },
        {
         "name": "passenger_count",
         "rawType": "float64",
         "type": "float"
        },
        {
         "name": "trip_distance",
         "rawType": "float64",
         "type": "float"
        },
        {
         "name": "fare_amount",
         "rawType": "float64",
         "type": "float"
        },
        {
         "name": "extra",
         "rawType": "float64",
         "type": "float"
        },
        {
         "name": "mta_tax",
         "rawType": "float64",
         "type": "float"
        },
        {
         "name": "tip_amount",
         "rawType": "float64",
         "type": "float"
        },
        {
         "name": "tolls_amount",
         "rawType": "float64",
         "type": "float"
        },
        {
         "name": "ehail_fee",
         "rawType": "object",
         "type": "string"
        },
        {
         "name": "improvement_surcharge",
         "rawType": "float64",
         "type": "float"
        },
        {
         "name": "total_amount",
         "rawType": "float64",
         "type": "float"
        },
        {
         "name": "payment_type",
         "rawType": "float64",
         "type": "float"
        },
        {
         "name": "trip_type",
         "rawType": "float64",
         "type": "float"
        },
        {
         "name": "congestion_surcharge",
         "rawType": "float64",
         "type": "float"
        }
       ],
       "ref": "c1658fba-6c89-4904-8b84-1cec28dcc6ee",
       "rows": [
        [
         "0",
         "2",
         "2021-01-01 00:15:56",
         "2021-01-01 00:19:52",
         "N",
         "1.0",
         "43",
         "151",
         "1.0",
         "1.01",
         "5.5",
         "0.5",
         "0.5",
         "0.0",
         "0.0",
         null,
         "0.3",
         "6.8",
         "2.0",
         "1.0",
         "0.0"
        ],
        [
         "1",
         "2",
         "2021-01-01 00:25:59",
         "2021-01-01 00:34:44",
         "N",
         "1.0",
         "166",
         "239",
         "1.0",
         "2.53",
         "10.0",
         "0.5",
         "0.5",
         "2.81",
         "0.0",
         null,
         "0.3",
         "16.86",
         "1.0",
         "1.0",
         "2.75"
        ],
        [
         "2",
         "2",
         "2021-01-01 00:45:57",
         "2021-01-01 00:51:55",
         "N",
         "1.0",
         "41",
         "42",
         "1.0",
         "1.12",
         "6.0",
         "0.5",
         "0.5",
         "1.0",
         "0.0",
         null,
         "0.3",
         "8.3",
         "1.0",
         "1.0",
         "0.0"
        ],
        [
         "3",
         "2",
         "2020-12-31 23:57:51",
         "2021-01-01 00:04:56",
         "N",
         "1.0",
         "168",
         "75",
         "1.0",
         "1.99",
         "8.0",
         "0.5",
         "0.5",
         "0.0",
         "0.0",
         null,
         "0.3",
         "9.3",
         "2.0",
         "1.0",
         "0.0"
        ],
        [
         "4",
         "2",
         "2021-01-01 00:16:36",
         "2021-01-01 00:16:40",
         "N",
         "2.0",
         "265",
         "265",
         "3.0",
         "0.0",
         "-52.0",
         "0.0",
         "-0.5",
         "0.0",
         "0.0",
         null,
         "-0.3",
         "-52.8",
         "3.0",
         "1.0",
         "0.0"
        ]
       ],
       "shape": {
        "columns": 20,
        "rows": 5
       }
      },
      "text/html": [
       "<div>\n",
       "<style scoped>\n",
       "    .dataframe tbody tr th:only-of-type {\n",
       "        vertical-align: middle;\n",
       "    }\n",
       "\n",
       "    .dataframe tbody tr th {\n",
       "        vertical-align: top;\n",
       "    }\n",
       "\n",
       "    .dataframe thead th {\n",
       "        text-align: right;\n",
       "    }\n",
       "</style>\n",
       "<table border=\"1\" class=\"dataframe\">\n",
       "  <thead>\n",
       "    <tr style=\"text-align: right;\">\n",
       "      <th></th>\n",
       "      <th>VendorID</th>\n",
       "      <th>lpep_pickup_datetime</th>\n",
       "      <th>lpep_dropoff_datetime</th>\n",
       "      <th>store_and_fwd_flag</th>\n",
       "      <th>RatecodeID</th>\n",
       "      <th>PULocationID</th>\n",
       "      <th>DOLocationID</th>\n",
       "      <th>passenger_count</th>\n",
       "      <th>trip_distance</th>\n",
       "      <th>fare_amount</th>\n",
       "      <th>extra</th>\n",
       "      <th>mta_tax</th>\n",
       "      <th>tip_amount</th>\n",
       "      <th>tolls_amount</th>\n",
       "      <th>ehail_fee</th>\n",
       "      <th>improvement_surcharge</th>\n",
       "      <th>total_amount</th>\n",
       "      <th>payment_type</th>\n",
       "      <th>trip_type</th>\n",
       "      <th>congestion_surcharge</th>\n",
       "    </tr>\n",
       "  </thead>\n",
       "  <tbody>\n",
       "    <tr>\n",
       "      <th>0</th>\n",
       "      <td>2</td>\n",
       "      <td>2021-01-01 00:15:56</td>\n",
       "      <td>2021-01-01 00:19:52</td>\n",
       "      <td>N</td>\n",
       "      <td>1.0</td>\n",
       "      <td>43</td>\n",
       "      <td>151</td>\n",
       "      <td>1.0</td>\n",
       "      <td>1.01</td>\n",
       "      <td>5.5</td>\n",
       "      <td>0.5</td>\n",
       "      <td>0.5</td>\n",
       "      <td>0.00</td>\n",
       "      <td>0.0</td>\n",
       "      <td>None</td>\n",
       "      <td>0.3</td>\n",
       "      <td>6.80</td>\n",
       "      <td>2.0</td>\n",
       "      <td>1.0</td>\n",
       "      <td>0.00</td>\n",
       "    </tr>\n",
       "    <tr>\n",
       "      <th>1</th>\n",
       "      <td>2</td>\n",
       "      <td>2021-01-01 00:25:59</td>\n",
       "      <td>2021-01-01 00:34:44</td>\n",
       "      <td>N</td>\n",
       "      <td>1.0</td>\n",
       "      <td>166</td>\n",
       "      <td>239</td>\n",
       "      <td>1.0</td>\n",
       "      <td>2.53</td>\n",
       "      <td>10.0</td>\n",
       "      <td>0.5</td>\n",
       "      <td>0.5</td>\n",
       "      <td>2.81</td>\n",
       "      <td>0.0</td>\n",
       "      <td>None</td>\n",
       "      <td>0.3</td>\n",
       "      <td>16.86</td>\n",
       "      <td>1.0</td>\n",
       "      <td>1.0</td>\n",
       "      <td>2.75</td>\n",
       "    </tr>\n",
       "    <tr>\n",
       "      <th>2</th>\n",
       "      <td>2</td>\n",
       "      <td>2021-01-01 00:45:57</td>\n",
       "      <td>2021-01-01 00:51:55</td>\n",
       "      <td>N</td>\n",
       "      <td>1.0</td>\n",
       "      <td>41</td>\n",
       "      <td>42</td>\n",
       "      <td>1.0</td>\n",
       "      <td>1.12</td>\n",
       "      <td>6.0</td>\n",
       "      <td>0.5</td>\n",
       "      <td>0.5</td>\n",
       "      <td>1.00</td>\n",
       "      <td>0.0</td>\n",
       "      <td>None</td>\n",
       "      <td>0.3</td>\n",
       "      <td>8.30</td>\n",
       "      <td>1.0</td>\n",
       "      <td>1.0</td>\n",
       "      <td>0.00</td>\n",
       "    </tr>\n",
       "    <tr>\n",
       "      <th>3</th>\n",
       "      <td>2</td>\n",
       "      <td>2020-12-31 23:57:51</td>\n",
       "      <td>2021-01-01 00:04:56</td>\n",
       "      <td>N</td>\n",
       "      <td>1.0</td>\n",
       "      <td>168</td>\n",
       "      <td>75</td>\n",
       "      <td>1.0</td>\n",
       "      <td>1.99</td>\n",
       "      <td>8.0</td>\n",
       "      <td>0.5</td>\n",
       "      <td>0.5</td>\n",
       "      <td>0.00</td>\n",
       "      <td>0.0</td>\n",
       "      <td>None</td>\n",
       "      <td>0.3</td>\n",
       "      <td>9.30</td>\n",
       "      <td>2.0</td>\n",
       "      <td>1.0</td>\n",
       "      <td>0.00</td>\n",
       "    </tr>\n",
       "    <tr>\n",
       "      <th>4</th>\n",
       "      <td>2</td>\n",
       "      <td>2021-01-01 00:16:36</td>\n",
       "      <td>2021-01-01 00:16:40</td>\n",
       "      <td>N</td>\n",
       "      <td>2.0</td>\n",
       "      <td>265</td>\n",
       "      <td>265</td>\n",
       "      <td>3.0</td>\n",
       "      <td>0.00</td>\n",
       "      <td>-52.0</td>\n",
       "      <td>0.0</td>\n",
       "      <td>-0.5</td>\n",
       "      <td>0.00</td>\n",
       "      <td>0.0</td>\n",
       "      <td>None</td>\n",
       "      <td>-0.3</td>\n",
       "      <td>-52.80</td>\n",
       "      <td>3.0</td>\n",
       "      <td>1.0</td>\n",
       "      <td>0.00</td>\n",
       "    </tr>\n",
       "  </tbody>\n",
       "</table>\n",
       "</div>"
      ],
      "text/plain": [
       "   VendorID lpep_pickup_datetime lpep_dropoff_datetime store_and_fwd_flag  \\\n",
       "0         2  2021-01-01 00:15:56   2021-01-01 00:19:52                  N   \n",
       "1         2  2021-01-01 00:25:59   2021-01-01 00:34:44                  N   \n",
       "2         2  2021-01-01 00:45:57   2021-01-01 00:51:55                  N   \n",
       "3         2  2020-12-31 23:57:51   2021-01-01 00:04:56                  N   \n",
       "4         2  2021-01-01 00:16:36   2021-01-01 00:16:40                  N   \n",
       "\n",
       "   RatecodeID  PULocationID  DOLocationID  passenger_count  trip_distance  \\\n",
       "0         1.0            43           151              1.0           1.01   \n",
       "1         1.0           166           239              1.0           2.53   \n",
       "2         1.0            41            42              1.0           1.12   \n",
       "3         1.0           168            75              1.0           1.99   \n",
       "4         2.0           265           265              3.0           0.00   \n",
       "\n",
       "   fare_amount  extra  mta_tax  tip_amount  tolls_amount ehail_fee  \\\n",
       "0          5.5    0.5      0.5        0.00           0.0      None   \n",
       "1         10.0    0.5      0.5        2.81           0.0      None   \n",
       "2          6.0    0.5      0.5        1.00           0.0      None   \n",
       "3          8.0    0.5      0.5        0.00           0.0      None   \n",
       "4        -52.0    0.0     -0.5        0.00           0.0      None   \n",
       "\n",
       "   improvement_surcharge  total_amount  payment_type  trip_type  \\\n",
       "0                    0.3          6.80           2.0        1.0   \n",
       "1                    0.3         16.86           1.0        1.0   \n",
       "2                    0.3          8.30           1.0        1.0   \n",
       "3                    0.3          9.30           2.0        1.0   \n",
       "4                   -0.3        -52.80           3.0        1.0   \n",
       "\n",
       "   congestion_surcharge  \n",
       "0                  0.00  \n",
       "1                  2.75  \n",
       "2                  0.00  \n",
       "3                  0.00  \n",
       "4                  0.00  "
      ]
     },
     "execution_count": 3,
     "metadata": {},
     "output_type": "execute_result"
    }
   ],
   "source": [
    "%time df = pd.read_parquet('./data/green_tripdata_2021-01.parquet')\n",
    "print(df.shape)\n",
    "df.head(5)"
   ]
  },
  {
   "cell_type": "markdown",
   "id": "627d91e9",
   "metadata": {},
   "source": [
    "## Data analysis & transformation"
   ]
  },
  {
   "cell_type": "code",
   "execution_count": 4,
   "id": "6cf14353",
   "metadata": {},
   "outputs": [
    {
     "data": {
      "application/vnd.microsoft.datawrangler.viewer.v0+json": {
       "columns": [
        {
         "name": "index",
         "rawType": "object",
         "type": "string"
        },
        {
         "name": "0",
         "rawType": "object",
         "type": "string"
        }
       ],
       "ref": "f661e032-5914-4173-b796-4834c2edbfc4",
       "rows": [
        [
         "VendorID",
         "int64"
        ],
        [
         "lpep_pickup_datetime",
         "datetime64[ns]"
        ],
        [
         "lpep_dropoff_datetime",
         "datetime64[ns]"
        ],
        [
         "store_and_fwd_flag",
         "object"
        ],
        [
         "RatecodeID",
         "float64"
        ],
        [
         "PULocationID",
         "int64"
        ],
        [
         "DOLocationID",
         "int64"
        ],
        [
         "passenger_count",
         "float64"
        ],
        [
         "trip_distance",
         "float64"
        ],
        [
         "fare_amount",
         "float64"
        ],
        [
         "extra",
         "float64"
        ],
        [
         "mta_tax",
         "float64"
        ],
        [
         "tip_amount",
         "float64"
        ],
        [
         "tolls_amount",
         "float64"
        ],
        [
         "ehail_fee",
         "object"
        ],
        [
         "improvement_surcharge",
         "float64"
        ],
        [
         "total_amount",
         "float64"
        ],
        [
         "payment_type",
         "float64"
        ],
        [
         "trip_type",
         "float64"
        ],
        [
         "congestion_surcharge",
         "float64"
        ]
       ],
       "shape": {
        "columns": 1,
        "rows": 20
       }
      },
      "text/plain": [
       "VendorID                          int64\n",
       "lpep_pickup_datetime     datetime64[ns]\n",
       "lpep_dropoff_datetime    datetime64[ns]\n",
       "store_and_fwd_flag               object\n",
       "RatecodeID                      float64\n",
       "PULocationID                      int64\n",
       "DOLocationID                      int64\n",
       "passenger_count                 float64\n",
       "trip_distance                   float64\n",
       "fare_amount                     float64\n",
       "extra                           float64\n",
       "mta_tax                         float64\n",
       "tip_amount                      float64\n",
       "tolls_amount                    float64\n",
       "ehail_fee                        object\n",
       "improvement_surcharge           float64\n",
       "total_amount                    float64\n",
       "payment_type                    float64\n",
       "trip_type                       float64\n",
       "congestion_surcharge            float64\n",
       "dtype: object"
      ]
     },
     "execution_count": 4,
     "metadata": {},
     "output_type": "execute_result"
    }
   ],
   "source": [
    "# Data analysis\n",
    "df.dtypes"
   ]
  },
  {
   "cell_type": "code",
   "execution_count": 5,
   "id": "d8a2c0b4",
   "metadata": {},
   "outputs": [
    {
     "data": {
      "application/vnd.microsoft.datawrangler.viewer.v0+json": {
       "columns": [
        {
         "name": "index",
         "rawType": "int64",
         "type": "integer"
        },
        {
         "name": "duration",
         "rawType": "timedelta64[ns]",
         "type": "unknown"
        }
       ],
       "ref": "348dd74d-79c6-4eb9-8ea3-7000a1b02b15",
       "rows": [
        [
         "0",
         "0 days 00:03:56"
        ],
        [
         "1",
         "0 days 00:08:45"
        ],
        [
         "2",
         "0 days 00:05:58"
        ],
        [
         "3",
         "0 days 00:07:05"
        ],
        [
         "4",
         "0 days 00:00:04"
        ],
        [
         "5",
         "0 days 00:00:04"
        ],
        [
         "6",
         "0 days 00:00:07"
        ],
        [
         "7",
         "0 days 00:02:19"
        ],
        [
         "8",
         "0 days 00:00:11"
        ],
        [
         "9",
         "0 days 00:34:02"
        ],
        [
         "10",
         "0 days 00:23:53"
        ],
        [
         "11",
         "0 days 00:13:06"
        ],
        [
         "12",
         "0 days 00:09:31"
        ],
        [
         "13",
         "0 days 00:15:28"
        ],
        [
         "14",
         "0 days 00:05:53"
        ],
        [
         "15",
         "0 days 00:00:02"
        ],
        [
         "16",
         "0 days 00:10:47"
        ],
        [
         "17",
         "0 days 00:15:02"
        ],
        [
         "18",
         "0 days 00:04:41"
        ],
        [
         "19",
         "0 days 00:02:26"
        ],
        [
         "20",
         "0 days 00:14:43"
        ],
        [
         "21",
         "0 days 00:44:52"
        ],
        [
         "22",
         "0 days 00:00:41"
        ],
        [
         "23",
         "0 days 00:14:21"
        ],
        [
         "24",
         "0 days 00:10:44"
        ],
        [
         "25",
         "0 days 00:16:50"
        ],
        [
         "26",
         "0 days 00:04:48"
        ],
        [
         "27",
         "0 days 00:03:16"
        ],
        [
         "28",
         "0 days 00:12:40"
        ],
        [
         "29",
         "0 days 00:25:24"
        ],
        [
         "30",
         "0 days 00:19:46"
        ],
        [
         "31",
         "0 days 00:03:57"
        ],
        [
         "32",
         "0 days 00:13:42"
        ],
        [
         "33",
         "0 days 00:09:21"
        ],
        [
         "34",
         "0 days 00:19:44"
        ],
        [
         "35",
         "0 days 00:12:00"
        ],
        [
         "36",
         "0 days 00:08:52"
        ],
        [
         "37",
         "0 days 00:09:37"
        ],
        [
         "38",
         "0 days 00:08:39"
        ],
        [
         "39",
         "0 days 00:05:12"
        ],
        [
         "40",
         "0 days 00:09:02"
        ],
        [
         "41",
         "0 days 00:13:32"
        ],
        [
         "42",
         "0 days 00:27:02"
        ],
        [
         "43",
         "0 days 02:01:12"
        ],
        [
         "44",
         "0 days 00:02:54"
        ],
        [
         "45",
         "0 days 00:00:04"
        ],
        [
         "46",
         "0 days 00:18:43"
        ],
        [
         "47",
         "0 days 00:06:12"
        ],
        [
         "48",
         "0 days 00:22:20"
        ],
        [
         "49",
         "0 days 00:08:51"
        ]
       ],
       "shape": {
        "columns": 1,
        "rows": 76518
       }
      },
      "text/plain": [
       "0       0 days 00:03:56\n",
       "1       0 days 00:08:45\n",
       "2       0 days 00:05:58\n",
       "3       0 days 00:07:05\n",
       "4       0 days 00:00:04\n",
       "              ...      \n",
       "76513   0 days 00:38:00\n",
       "76514   0 days 00:38:00\n",
       "76515   0 days 00:11:00\n",
       "76516   0 days 00:27:00\n",
       "76517   0 days 00:10:00\n",
       "Name: duration, Length: 76518, dtype: timedelta64[ns]"
      ]
     },
     "execution_count": 5,
     "metadata": {},
     "output_type": "execute_result"
    }
   ],
   "source": [
    "# Data transformation\n",
    "df[\"duration\"] = df[\"lpep_dropoff_datetime\"] - df[\"lpep_pickup_datetime\"]\n",
    "df[\"duration\"]"
   ]
  },
  {
   "cell_type": "code",
   "execution_count": 6,
   "id": "2ce97501",
   "metadata": {},
   "outputs": [
    {
     "data": {
      "text/plain": [
       "Timedelta('0 days 00:03:56')"
      ]
     },
     "execution_count": 6,
     "metadata": {},
     "output_type": "execute_result"
    }
   ],
   "source": [
    "td = df.duration.iloc[0]\n",
    "td"
   ]
  },
  {
   "cell_type": "code",
   "execution_count": 7,
   "id": "b466e5b7",
   "metadata": {},
   "outputs": [
    {
     "data": {
      "text/plain": [
       "236.0"
      ]
     },
     "execution_count": 7,
     "metadata": {},
     "output_type": "execute_result"
    }
   ],
   "source": [
    "td.total_seconds()"
   ]
  },
  {
   "cell_type": "code",
   "execution_count": 8,
   "id": "99c0b0d8",
   "metadata": {},
   "outputs": [
    {
     "data": {
      "application/vnd.microsoft.datawrangler.viewer.v0+json": {
       "columns": [
        {
         "name": "index",
         "rawType": "int64",
         "type": "integer"
        },
        {
         "name": "duration",
         "rawType": "float64",
         "type": "float"
        }
       ],
       "ref": "261b0019-0354-45f7-bff2-86ae3d92132b",
       "rows": [
        [
         "0",
         "3.933333333333333"
        ],
        [
         "1",
         "8.75"
        ],
        [
         "2",
         "5.966666666666667"
        ],
        [
         "3",
         "7.083333333333333"
        ],
        [
         "4",
         "0.06666666666666667"
        ],
        [
         "5",
         "0.06666666666666667"
        ],
        [
         "6",
         "0.11666666666666667"
        ],
        [
         "7",
         "2.316666666666667"
        ],
        [
         "8",
         "0.18333333333333332"
        ],
        [
         "9",
         "34.03333333333333"
        ],
        [
         "10",
         "23.883333333333333"
        ],
        [
         "11",
         "13.1"
        ],
        [
         "12",
         "9.516666666666667"
        ],
        [
         "13",
         "15.466666666666667"
        ],
        [
         "14",
         "5.883333333333334"
        ],
        [
         "15",
         "0.03333333333333333"
        ],
        [
         "16",
         "10.783333333333333"
        ],
        [
         "17",
         "15.033333333333333"
        ],
        [
         "18",
         "4.683333333333334"
        ],
        [
         "19",
         "2.433333333333333"
        ],
        [
         "20",
         "14.716666666666667"
        ],
        [
         "21",
         "44.86666666666667"
        ],
        [
         "22",
         "0.6833333333333333"
        ],
        [
         "23",
         "14.35"
        ],
        [
         "24",
         "10.733333333333333"
        ],
        [
         "25",
         "16.833333333333332"
        ],
        [
         "26",
         "4.8"
        ],
        [
         "27",
         "3.2666666666666666"
        ],
        [
         "28",
         "12.666666666666666"
        ],
        [
         "29",
         "25.4"
        ],
        [
         "30",
         "19.766666666666666"
        ],
        [
         "31",
         "3.95"
        ],
        [
         "32",
         "13.7"
        ],
        [
         "33",
         "9.35"
        ],
        [
         "34",
         "19.733333333333334"
        ],
        [
         "35",
         "12.0"
        ],
        [
         "36",
         "8.866666666666667"
        ],
        [
         "37",
         "9.616666666666667"
        ],
        [
         "38",
         "8.65"
        ],
        [
         "39",
         "5.2"
        ],
        [
         "40",
         "9.033333333333333"
        ],
        [
         "41",
         "13.533333333333333"
        ],
        [
         "42",
         "27.033333333333335"
        ],
        [
         "43",
         "121.2"
        ],
        [
         "44",
         "2.9"
        ],
        [
         "45",
         "0.06666666666666667"
        ],
        [
         "46",
         "18.716666666666665"
        ],
        [
         "47",
         "6.2"
        ],
        [
         "48",
         "22.333333333333332"
        ],
        [
         "49",
         "8.85"
        ]
       ],
       "shape": {
        "columns": 1,
        "rows": 76518
       }
      },
      "text/plain": [
       "0         3.933333\n",
       "1         8.750000\n",
       "2         5.966667\n",
       "3         7.083333\n",
       "4         0.066667\n",
       "           ...    \n",
       "76513    38.000000\n",
       "76514    38.000000\n",
       "76515    11.000000\n",
       "76516    27.000000\n",
       "76517    10.000000\n",
       "Name: duration, Length: 76518, dtype: float64"
      ]
     },
     "execution_count": 8,
     "metadata": {},
     "output_type": "execute_result"
    }
   ],
   "source": [
    "df.duration = df.duration.apply(lambda td: td.total_seconds() / 60)\n",
    "df.duration"
   ]
  },
  {
   "cell_type": "code",
   "execution_count": 9,
   "id": "80aa9cf6",
   "metadata": {},
   "outputs": [
    {
     "data": {
      "application/vnd.microsoft.datawrangler.viewer.v0+json": {
       "columns": [
        {
         "name": "index",
         "rawType": "object",
         "type": "string"
        },
        {
         "name": "duration",
         "rawType": "float64",
         "type": "float"
        }
       ],
       "ref": "aa211411-254c-4c6b-9d07-d3076837bd8e",
       "rows": [
        [
         "count",
         "76518.0"
        ],
        [
         "mean",
         "19.92789605060252"
        ],
        [
         "std",
         "59.3385941316464"
        ],
        [
         "min",
         "0.0"
        ],
        [
         "1%",
         "0.2"
        ],
        [
         "2%",
         "1.0166666666666666"
        ],
        [
         "5%",
         "3.0"
        ],
        [
         "50%",
         "13.883333333333333"
        ],
        [
         "95%",
         "44.0"
        ],
        [
         "98%",
         "56.0"
        ],
        [
         "99%",
         "67.15816666666676"
        ],
        [
         "max",
         "1439.6"
        ]
       ],
       "shape": {
        "columns": 1,
        "rows": 12
       }
      },
      "text/plain": [
       "count    76518.000000\n",
       "mean        19.927896\n",
       "std         59.338594\n",
       "min          0.000000\n",
       "1%           0.200000\n",
       "2%           1.016667\n",
       "5%           3.000000\n",
       "50%         13.883333\n",
       "95%         44.000000\n",
       "98%         56.000000\n",
       "99%         67.158167\n",
       "max       1439.600000\n",
       "Name: duration, dtype: float64"
      ]
     },
     "execution_count": 9,
     "metadata": {},
     "output_type": "execute_result"
    }
   ],
   "source": [
    "df.duration.describe(percentiles=[0.01, 0.02, 0.05, 0.95, 0.98, 0.99])\n",
    "# 99% of trips have a duration < 67.16 minutes\n",
    "# we can keep duration values >= 1 and <= 60"
   ]
  },
  {
   "cell_type": "code",
   "execution_count": 10,
   "id": "20cd78a2",
   "metadata": {},
   "outputs": [
    {
     "data": {
      "application/vnd.microsoft.datawrangler.viewer.v0+json": {
       "columns": [
        {
         "name": "index",
         "rawType": "object",
         "type": "string"
        },
        {
         "name": "duration",
         "rawType": "float64",
         "type": "float"
        }
       ],
       "ref": "ed94423f-738d-40de-92e0-c1d31167219d",
       "rows": [
        [
         "count",
         "73908.0"
        ],
        [
         "mean",
         "16.852578430841973"
        ],
        [
         "std",
         "11.563163041534002"
        ],
        [
         "min",
         "1.0"
        ],
        [
         "25%",
         "8.05"
        ],
        [
         "50%",
         "14.0"
        ],
        [
         "75%",
         "22.633333333333333"
        ],
        [
         "max",
         "60.0"
        ]
       ],
       "shape": {
        "columns": 1,
        "rows": 8
       }
      },
      "text/plain": [
       "count    73908.000000\n",
       "mean        16.852578\n",
       "std         11.563163\n",
       "min          1.000000\n",
       "25%          8.050000\n",
       "50%         14.000000\n",
       "75%         22.633333\n",
       "max         60.000000\n",
       "Name: duration, dtype: float64"
      ]
     },
     "execution_count": 10,
     "metadata": {},
     "output_type": "execute_result"
    }
   ],
   "source": [
    "# apply filter\n",
    "df = df[(df[\"duration\"] >= 1) & (df[\"duration\"] <= 60)]\n",
    "# check distribution\n",
    "df.duration.describe()"
   ]
  },
  {
   "cell_type": "code",
   "execution_count": 11,
   "id": "7df664cc",
   "metadata": {},
   "outputs": [
    {
     "data": {
      "text/plain": [
       "<AxesSubplot:xlabel='duration', ylabel='Density'>"
      ]
     },
     "execution_count": 11,
     "metadata": {},
     "output_type": "execute_result"
    },
    {
     "data": {
      "image/png": "[encoded data removed]",
      "text/plain": [
       "<Figure size 432x288 with 1 Axes>"
      ]
     },
     "metadata": {
      "needs_background": "light"
     },
     "output_type": "display_data"
    }
   ],
   "source": [
    "sns.kdeplot(data=df, x=\"duration\")"
   ]
  },
  {
   "cell_type": "code",
   "execution_count": 12,
   "id": "a2c508bb",
   "metadata": {},
   "outputs": [
    {
     "data": {
      "application/vnd.microsoft.datawrangler.viewer.v0+json": {
       "columns": [
        {
         "name": "index",
         "rawType": "object",
         "type": "string"
        },
        {
         "name": "0",
         "rawType": "int64",
         "type": "integer"
        }
       ],
       "ref": "831f11ef-17b6-4bd7-8ba3-f1313a4dfea6",
       "rows": [
        [
         "PULocationID",
         "250"
        ],
        [
         "DOLocationID",
         "256"
        ]
       ],
       "shape": {
        "columns": 1,
        "rows": 2
       }
      },
      "text/plain": [
       "PULocationID    250\n",
       "DOLocationID    256\n",
       "dtype: int64"
      ]
     },
     "execution_count": 12,
     "metadata": {},
     "output_type": "execute_result"
    }
   ],
   "source": [
    "# selection of variables\n",
    "df[[\"PULocationID\", \"DOLocationID\"]].nunique()"
   ]
  },
  {
   "cell_type": "code",
   "execution_count": 13,
   "id": "a140016a",
   "metadata": {},
   "outputs": [
    {
     "data": {
      "application/vnd.microsoft.datawrangler.viewer.v0+json": {
       "columns": [
        {
         "name": "index",
         "rawType": "int64",
         "type": "integer"
        },
        {
         "name": "PULocationID",
         "rawType": "int64",
         "type": "integer"
        }
       ],
       "ref": "b3bc64d4-8bad-40ea-a31f-52fa8b8a90e6",
       "rows": [
        [
         "74",
         "6555"
        ],
        [
         "75",
         "6063"
        ],
        [
         "41",
         "4071"
        ],
        [
         "42",
         "2683"
        ],
        [
         "244",
         "2554"
        ],
        [
         "95",
         "2006"
        ],
        [
         "97",
         "1927"
        ],
        [
         "166",
         "1889"
        ],
        [
         "65",
         "1325"
        ],
        [
         "43",
         "1320"
        ],
        [
         "61",
         "1251"
        ],
        [
         "7",
         "1171"
        ],
        [
         "130",
         "1133"
        ],
        [
         "116",
         "1041"
        ],
        [
         "82",
         "1011"
        ],
        [
         "25",
         "883"
        ],
        [
         "33",
         "854"
        ],
        [
         "188",
         "823"
        ],
        [
         "181",
         "746"
        ],
        [
         "76",
         "742"
        ],
        [
         "242",
         "624"
        ],
        [
         "17",
         "613"
        ],
        [
         "39",
         "583"
        ],
        [
         "213",
         "576"
        ],
        [
         "152",
         "565"
        ],
        [
         "225",
         "563"
        ],
        [
         "35",
         "562"
        ],
        [
         "89",
         "561"
        ],
        [
         "129",
         "558"
        ],
        [
         "196",
         "553"
        ],
        [
         "197",
         "544"
        ],
        [
         "52",
         "542"
        ],
        [
         "51",
         "529"
        ],
        [
         "49",
         "520"
        ],
        [
         "72",
         "488"
        ],
        [
         "69",
         "477"
        ],
        [
         "247",
         "464"
        ],
        [
         "243",
         "446"
        ],
        [
         "71",
         "434"
        ],
        [
         "134",
         "406"
        ],
        [
         "55",
         "403"
        ],
        [
         "14",
         "403"
        ],
        [
         "159",
         "398"
        ],
        [
         "91",
         "394"
        ],
        [
         "235",
         "388"
        ],
        [
         "254",
         "376"
        ],
        [
         "174",
         "375"
        ],
        [
         "168",
         "372"
        ],
        [
         "47",
         "341"
        ],
        [
         "177",
         "326"
        ]
       ],
       "shape": {
        "columns": 1,
        "rows": 250
       }
      },
      "text/plain": [
       "74     6555\n",
       "75     6063\n",
       "41     4071\n",
       "42     2683\n",
       "244    2554\n",
       "       ... \n",
       "8         1\n",
       "12        1\n",
       "253       1\n",
       "187       1\n",
       "176       1\n",
       "Name: PULocationID, Length: 250, dtype: int64"
      ]
     },
     "execution_count": 13,
     "metadata": {},
     "output_type": "execute_result"
    }
   ],
   "source": [
    "df[\"PULocationID\"].value_counts()"
   ]
  },
  {
   "cell_type": "code",
   "execution_count": 14,
   "id": "658173a8",
   "metadata": {},
   "outputs": [
    {
     "name": "stderr",
     "output_type": "stream",
     "text": [
      "No artists with labels found to put in legend.  Note that artists whose label start with an underscore are ignored when legend() is called with no argument.\n"
     ]
    },
    {
     "data": {
      "image/png": "[encoded data removed]",
      "text/plain": [
       "<Figure size 432x288 with 1 Axes>"
      ]
     },
     "metadata": {
      "needs_background": "light"
     },
     "output_type": "display_data"
    }
   ],
   "source": [
    "sns.histplot(data=df, x=\"PULocationID\", legend=True)\n",
    "sns.histplot(data=df, x=\"DOLocationID\", ax=plt.gca(), color=\"orange\", legend=True)\n",
    "plt.legend()\n",
    "plt.show()"
   ]
  },
  {
   "cell_type": "code",
   "execution_count": 15,
   "id": "381e4498",
   "metadata": {},
   "outputs": [
    {
     "data": {
      "text/plain": [
       "<AxesSubplot:xlabel='trip_distance', ylabel='Density'>"
      ]
     },
     "execution_count": 15,
     "metadata": {},
     "output_type": "execute_result"
    },
    {
     "data": {
      "image/png": "[encoded data removed]",
      "text/plain": [
       "<Figure size 432x288 with 1 Axes>"
      ]
     },
     "metadata": {
      "needs_background": "light"
     },
     "output_type": "display_data"
    }
   ],
   "source": [
    "# convert trip_distance unit from miles to km\n",
    "df.trip_distance = df.trip_distance.apply(lambda x: x / 1.609344)\n",
    "sns.kdeplot(data=df, x=\"trip_distance\")"
   ]
  },
  {
   "cell_type": "code",
   "execution_count": 16,
   "id": "281c3c5a",
   "metadata": {},
   "outputs": [
    {
     "data": {
      "application/vnd.microsoft.datawrangler.viewer.v0+json": {
       "columns": [
        {
         "name": "index",
         "rawType": "object",
         "type": "string"
        },
        {
         "name": "trip_distance",
         "rawType": "float64",
         "type": "float"
        }
       ],
       "ref": "a303fbd1-b4cd-40c0-9b6a-54338dff68ac",
       "rows": [
        [
         "count",
         "73908.0"
        ],
        [
         "mean",
         "26.127241657058327"
        ],
        [
         "std",
         "1216.6959644576193"
        ],
        [
         "min",
         "0.0"
        ],
        [
         "1%",
         "0.0"
        ],
        [
         "2%",
         "0.0"
        ],
        [
         "5%",
         "0.310685596118667"
        ],
        [
         "50%",
         "1.6155650998170683"
        ],
        [
         "95%",
         "9.544261512765448"
        ],
        [
         "98%",
         "12.247226198997852"
        ],
        [
         "99%",
         "14.372315676449533"
        ],
        [
         "max",
         "151709.02554084148"
        ]
       ],
       "shape": {
        "columns": 1,
        "rows": 12
       }
      },
      "text/plain": [
       "count     73908.000000\n",
       "mean         26.127242\n",
       "std        1216.695964\n",
       "min           0.000000\n",
       "1%            0.000000\n",
       "2%            0.000000\n",
       "5%            0.310686\n",
       "50%           1.615565\n",
       "95%           9.544262\n",
       "98%          12.247226\n",
       "99%          14.372316\n",
       "max      151709.025541\n",
       "Name: trip_distance, dtype: float64"
      ]
     },
     "execution_count": 16,
     "metadata": {},
     "output_type": "execute_result"
    }
   ],
   "source": [
    "df.trip_distance.describe(percentiles=[0.01, 0.02, 0.05, 0.95, 0.98, 0.99])\n",
    "# variable trip_distance also contains outliers"
   ]
  },
  {
   "cell_type": "code",
   "execution_count": 17,
   "id": "f0e54667",
   "metadata": {},
   "outputs": [
    {
     "name": "stdout",
     "output_type": "stream",
     "text": [
      "(73908, 21)\n",
      "(71545, 21)\n"
     ]
    }
   ],
   "source": [
    "# apply filter on trip_distance\n",
    "print(df.shape)\n",
    "max = np.percentile(df.trip_distance, q=99)\n",
    "df = df[(df[\"trip_distance\"] > 0) & (df[\"trip_distance\"] <= max)]\n",
    "print(df.shape)"
   ]
  },
  {
   "cell_type": "code",
   "execution_count": 18,
   "id": "600799eb",
   "metadata": {},
   "outputs": [
    {
     "data": {
      "text/plain": [
       "<AxesSubplot:xlabel='trip_distance', ylabel='Density'>"
      ]
     },
     "execution_count": 18,
     "metadata": {},
     "output_type": "execute_result"
    },
    {
     "data": {
      "image/png": "[encoded data removed]",
      "text/plain": [
       "<Figure size 432x288 with 1 Axes>"
      ]
     },
     "metadata": {
      "needs_background": "light"
     },
     "output_type": "display_data"
    }
   ],
   "source": [
    "sns.kdeplot(data=df, x=\"trip_distance\")"
   ]
  },
  {
   "cell_type": "markdown",
   "id": "496e274c",
   "metadata": {},
   "source": [
    "## Target & feature selection"
   ]
  },
  {
   "cell_type": "code",
   "execution_count": 19,
   "id": "994b97ad",
   "metadata": {},
   "outputs": [],
   "source": [
    "# feature selection\n",
    "# categorical variables :\n",
    "# cat_cols = [\"PULocationID\", \"DOLocationID\"]\n",
    "# since both variables do not really give information separately, we should link them together to represent their interaction\n",
    "# (kind of like a graph dependancy)\n",
    "# convert int to str\n",
    "df[[\"PULocationID\", \"DOLocationID\"]] = df[[\"PULocationID\", \"DOLocationID\"]].astype(str)\n",
    "df[\"PU_DO\"] = df[\"PULocationID\"] + \"_\" + df[\"DOLocationID\"]\n",
    "cat_cols = [\"PU_DO\"]\n",
    "\n",
    "# numerical variables\n",
    "num_cols = [\"trip_distance\"]"
   ]
  },
  {
   "cell_type": "code",
   "execution_count": 20,
   "id": "675a8a67",
   "metadata": {},
   "outputs": [
    {
     "data": {
      "text/plain": [
       "<71545x248 sparse matrix of type '<class 'numpy.float64'>'\n",
       "\twith 71545 stored elements in Compressed Sparse Row format>"
      ]
     },
     "execution_count": 20,
     "metadata": {},
     "output_type": "execute_result"
    }
   ],
   "source": [
    "# apply one-hot-encoding\n",
    "from sklearn.preprocessing import OneHotEncoder\n",
    "\n",
    "encoder = OneHotEncoder(handle_unknown=\"ignore\")\n",
    "\n",
    "# test on \"PULocationID\"\n",
    "Xnew = encoder.fit_transform(df[[\"PULocationID\"]])\n",
    "Xnew"
   ]
  },
  {
   "cell_type": "code",
   "execution_count": 21,
   "id": "738a0f90",
   "metadata": {},
   "outputs": [
    {
     "name": "stdout",
     "output_type": "stream",
     "text": [
      "(71545, 2) (71545,) (71545,)\n"
     ]
    }
   ],
   "source": [
    "# define target and features\n",
    "X = df[cat_cols + num_cols]\n",
    "y = df[\"duration\"]\n",
    "y_log = np.log(df[\"duration\"])\n",
    "\n",
    "print(X.shape, y.shape, y_log.shape)"
   ]
  },
  {
   "cell_type": "code",
   "execution_count": 22,
   "id": "a737ea4c",
   "metadata": {},
   "outputs": [
    {
     "data": {
      "image/png": "[encoded data removed]",
      "text/plain": [
       "<Figure size 432x288 with 1 Axes>"
      ]
     },
     "metadata": {
      "needs_background": "light"
     },
     "output_type": "display_data"
    },
    {
     "data": {
      "image/png": "[encoded data removed]",
      "text/plain": [
       "<Figure size 432x288 with 1 Axes>"
      ]
     },
     "metadata": {
      "needs_background": "light"
     },
     "output_type": "display_data"
    }
   ],
   "source": [
    "sns.kdeplot(y)\n",
    "plt.show()\n",
    "\n",
    "sns.kdeplot(y_log)\n",
    "plt.show()"
   ]
  },
  {
   "cell_type": "code",
   "execution_count": 23,
   "id": "5366c3bc",
   "metadata": {},
   "outputs": [
    {
     "name": "stdout",
     "output_type": "stream",
     "text": [
      "(57236, 2) (57236,)\n",
      "(14309, 2) (14309,)\n"
     ]
    }
   ],
   "source": [
    "# split train/val datasets\n",
    "from sklearn.model_selection import train_test_split\n",
    "\n",
    "X_train, X_valid, y_train, y_valid = train_test_split(\n",
    "    X, y, train_size=0.8, random_state=42\n",
    ")\n",
    "print(X_train.shape, y_train.shape)\n",
    "print(X_valid.shape, y_valid.shape)"
   ]
  },
  {
   "cell_type": "code",
   "execution_count": 24,
   "id": "5a5cedeb",
   "metadata": {},
   "outputs": [
    {
     "name": "stdout",
     "output_type": "stream",
     "text": [
      "(57236, 11392) (14309, 11392)\n"
     ]
    }
   ],
   "source": [
    "# define data transformation\n",
    "\n",
    "from sklearn.compose import ColumnTransformer\n",
    "\n",
    "ct = ColumnTransformer(\n",
    "    [\n",
    "        (\"cat\", OneHotEncoder(handle_unknown=\"ignore\"), cat_cols),\n",
    "        (\"num\", \"passthrough\", num_cols),\n",
    "    ]\n",
    ")\n",
    "\n",
    "# apply data transformation\n",
    "# fit_transform on training dataset\n",
    "# transform on validation dataset\n",
    "\n",
    "X_train = ct.fit_transform(X_train)\n",
    "X_valid = ct.transform(X_valid)\n",
    "\n",
    "print(X_train.shape, X_valid.shape)"
   ]
  },
  {
   "cell_type": "markdown",
   "id": "97238c58",
   "metadata": {},
   "source": [
    "## Model training & evaluation"
   ]
  },
  {
   "cell_type": "code",
   "execution_count": 25,
   "id": "df5612ca",
   "metadata": {},
   "outputs": [],
   "source": [
    "# model design\n",
    "\n",
    "from sklearn.linear_model import LinearRegression, Ridge, Lasso\n",
    "from sklearn.ensemble import RandomForestRegressor\n",
    "\n",
    "from sklearn.metrics import mean_squared_error, r2_score"
   ]
  },
  {
   "cell_type": "code",
   "execution_count": 26,
   "id": "0e6fa544",
   "metadata": {},
   "outputs": [
    {
     "data": {
      "image/png": "[encoded data removed]",
      "text/plain": [
       "<Figure size 432x288 with 1 Axes>"
      ]
     },
     "metadata": {
      "needs_background": "light"
     },
     "output_type": "display_data"
    },
    {
     "data": {
      "image/png": "[encoded data removed]",
      "text/plain": [
       "<Figure size 432x288 with 1 Axes>"
      ]
     },
     "metadata": {
      "needs_background": "light"
     },
     "output_type": "display_data"
    },
    {
     "name": "stdout",
     "output_type": "stream",
     "text": [
      "r2 :  0.7348669224154478\n",
      "rmse:  5.765903719268549\n"
     ]
    }
   ],
   "source": [
    "lr = LinearRegression()\n",
    "lr.fit(X_train, y_train)\n",
    "y_pred = lr.predict(X_valid)\n",
    "\n",
    "# plt.scatter(y_pred, y_valid)\n",
    "sns.kdeplot(y_valid, label=\"true_values\")\n",
    "sns.kdeplot(y_pred, label=\"predictions\")\n",
    "plt.legend()\n",
    "plt.show()\n",
    "\n",
    "# scores\n",
    "## r2\n",
    "plt.scatter(y_valid, y_pred, alpha=0.5)\n",
    "plt.ylabel(\"true_values\")\n",
    "plt.xlabel(\"predictions\")\n",
    "# add y=x\n",
    "sample_y = np.arange(y_valid.min(), y_valid.max())\n",
    "plt.plot(sample_y, sample_y, color=\"k\")\n",
    "plt.show()\n",
    "\n",
    "r2 = r2_score(y_valid, y_pred)\n",
    "\n",
    "## rmse\n",
    "rmse = np.sqrt(mean_squared_error(y_valid, y_pred))\n",
    "print(\"r2 : \", r2)\n",
    "print(\"rmse: \", rmse)"
   ]
  },
  {
   "cell_type": "code",
   "execution_count": null,
   "id": "518d0fc1",
   "metadata": {},
   "outputs": [],
   "source": []
  },
  {
   "cell_type": "code",
   "execution_count": 27,
   "id": "7f4883d9",
   "metadata": {},
   "outputs": [
    {
     "data": {
      "image/png": "[encoded data removed]",
      "text/plain": [
       "<Figure size 432x288 with 1 Axes>"
      ]
     },
     "metadata": {
      "needs_background": "light"
     },
     "output_type": "display_data"
    },
    {
     "data": {
      "image/png": "[encoded data removed]",
      "text/plain": [
       "<Figure size 432x288 with 1 Axes>"
      ]
     },
     "metadata": {
      "needs_background": "light"
     },
     "output_type": "display_data"
    },
    {
     "name": "stdout",
     "output_type": "stream",
     "text": [
      "r2 :  0.7552405127088772\n",
      "rmse:  5.5399417332551675\n"
     ]
    }
   ],
   "source": [
    "ridge = Ridge(alpha=0.1)\n",
    "ridge.fit(X_train, y_train)\n",
    "y_pred = ridge.predict(X_valid)\n",
    "\n",
    "# plt.scatter(y_pred, y_valid)\n",
    "sns.kdeplot(y_valid, label=\"true_values\")\n",
    "sns.kdeplot(y_pred, label=\"predictions\")\n",
    "plt.legend()\n",
    "plt.show()\n",
    "\n",
    "# scores\n",
    "## r2\n",
    "plt.scatter(y_valid, y_pred, alpha=0.5)\n",
    "plt.ylabel(\"true_values\")\n",
    "plt.xlabel(\"predictions\")\n",
    "# add y=x\n",
    "sample_y = np.arange(y_valid.min(), y_valid.max())\n",
    "plt.plot(sample_y, sample_y, color=\"k\")\n",
    "plt.show()\n",
    "\n",
    "r2 = r2_score(y_valid, y_pred)\n",
    "\n",
    "## rmse\n",
    "rmse = np.sqrt(mean_squared_error(y_valid, y_pred))\n",
    "print(\"r2 : \", r2)\n",
    "print(\"rmse: \", rmse)"
   ]
  },
  {
   "cell_type": "code",
   "execution_count": 28,
   "id": "2397e73c",
   "metadata": {},
   "outputs": [
    {
     "name": "stdout",
     "output_type": "stream",
     "text": [
      "CPU times: user 10.9 s, sys: 19.4 ms, total: 10.9 s\n",
      "Wall time: 11.7 s\n"
     ]
    },
    {
     "data": {
      "image/png": "[encoded data removed]",
      "text/plain": [
       "<Figure size 432x288 with 1 Axes>"
      ]
     },
     "metadata": {
      "needs_background": "light"
     },
     "output_type": "display_data"
    },
    {
     "data": {
      "image/png": "[encoded data removed]",
      "text/plain": [
       "<Figure size 432x288 with 1 Axes>"
      ]
     },
     "metadata": {
      "needs_background": "light"
     },
     "output_type": "display_data"
    },
    {
     "name": "stdout",
     "output_type": "stream",
     "text": [
      "r2 :  0.7177036641655798\n",
      "rmse:  5.949603859225618\n"
     ]
    }
   ],
   "source": [
    "lasso = Lasso(alpha=0.001)\n",
    "%time lasso.fit(X_train, y_train)\n",
    "y_pred = lasso.predict(X_valid)\n",
    "\n",
    "# plt.scatter(y_pred, y_valid)\n",
    "sns.kdeplot(y_valid, label=\"true_values\")\n",
    "sns.kdeplot(y_pred, label=\"predictions\")\n",
    "plt.legend()\n",
    "plt.show()\n",
    "\n",
    "# scores\n",
    "## r2\n",
    "plt.scatter(y_valid, y_pred, alpha=0.5)\n",
    "plt.ylabel(\"true_values\")\n",
    "plt.xlabel(\"predictions\")\n",
    "# add y=x\n",
    "sample_y = np.arange(y_valid.min(), y_valid.max())\n",
    "plt.plot(sample_y, sample_y, color=\"k\")\n",
    "plt.show()\n",
    "\n",
    "r2 = r2_score(y_valid, y_pred)\n",
    "\n",
    "## rmse\n",
    "rmse = np.sqrt(mean_squared_error(y_valid, y_pred))\n",
    "print(\"r2 : \", r2)\n",
    "print(\"rmse: \", rmse)"
   ]
  },
  {
   "cell_type": "code",
   "execution_count": 29,
   "id": "52648102",
   "metadata": {},
   "outputs": [
    {
     "name": "stdout",
     "output_type": "stream",
     "text": [
      "CPU times: user 54.5 s, sys: 117 ms, total: 54.6 s\n",
      "Wall time: 1min\n"
     ]
    },
    {
     "data": {
      "image/png": "[encoded data removed]",
      "text/plain": [
       "<Figure size 432x288 with 1 Axes>"
      ]
     },
     "metadata": {
      "needs_background": "light"
     },
     "output_type": "display_data"
    },
    {
     "data": {
      "image/png": "[encoded data removed]",
      "text/plain": [
       "<Figure size 432x288 with 1 Axes>"
      ]
     },
     "metadata": {
      "needs_background": "light"
     },
     "output_type": "display_data"
    },
    {
     "name": "stdout",
     "output_type": "stream",
     "text": [
      "r2 :  0.7411336666241162\n",
      "rmse:  5.697354144398145\n"
     ]
    }
   ],
   "source": [
    "rf = RandomForestRegressor(max_depth=10, n_estimators=500)\n",
    "%time rf.fit(X_train, y_train)\n",
    "\n",
    "y_pred = rf.predict(X_valid)\n",
    "\n",
    "# plt.scatter(y_pred, y_valid)\n",
    "sns.kdeplot(y_valid, label=\"true_values\")\n",
    "sns.kdeplot(y_pred, label=\"predictions\")\n",
    "plt.legend()\n",
    "plt.show()\n",
    "\n",
    "# scores\n",
    "## r2\n",
    "plt.scatter(y_valid, y_pred, alpha=0.5)\n",
    "plt.ylabel(\"true_values\")\n",
    "plt.xlabel(\"predictions\")\n",
    "# add y=x\n",
    "sample_y = np.arange(y_valid.min(), y_valid.max())\n",
    "plt.plot(sample_y, sample_y, color=\"k\")\n",
    "plt.show()\n",
    "\n",
    "r2 = r2_score(y_valid, y_pred)\n",
    "\n",
    "## rmse\n",
    "rmse = np.sqrt(mean_squared_error(y_valid, y_pred))\n",
    "print(\"r2 : \", r2)\n",
    "print(\"rmse: \", rmse)"
   ]
  },
  {
   "cell_type": "markdown",
   "id": "5912ed3a",
   "metadata": {},
   "source": [
    "## Model & transformers save parameters"
   ]
  },
  {
   "cell_type": "code",
   "execution_count": 30,
   "id": "3aa318a1",
   "metadata": {},
   "outputs": [],
   "source": [
    "import pickle"
   ]
  },
  {
   "cell_type": "code",
   "execution_count": 32,
   "id": "22bf6f8b",
   "metadata": {},
   "outputs": [
    {
     "name": "stdout",
     "output_type": "stream",
     "text": [
      "CPU times: user 25.8 ms, sys: 21.8 ms, total: 47.7 ms\n",
      "Wall time: 95.3 ms\n"
     ]
    }
   ],
   "source": [
    "%%time \n",
    "# Save models\n",
    "with open(\"models/lr.bin\", \"wb\") as f_out:\n",
    "    pickle.dump((ct, lr), f_out)\n",
    "\n",
    "with open(\"models/ridge.bin\", \"wb\") as f_out:\n",
    "    pickle.dump((ct, ridge), f_out)\n",
    "\n",
    "with open(\"models/lasso.bin\", \"wb\") as f_out:\n",
    "    pickle.dump((ct, lasso), f_out)\n",
    "\n",
    "with open(\"models/rf.bin\", \"wb\") as f_out:\n",
    "    pickle.dump((ct, rf), f_out)"
   ]
  }
 ],
 "metadata": {
  "kernelspec": {
   "display_name": "base",
   "language": "python",
   "name": "python3"
  },
  "language_info": {
   "codemirror_mode": {
    "name": "ipython",
    "version": 3
   },
   "file_extension": ".py",
   "mimetype": "text/x-python",
   "name": "python",
   "nbconvert_exporter": "python",
   "pygments_lexer": "ipython3",
   "version": "3.9.12"
  }
 },
 "nbformat": 4,
 "nbformat_minor": 5
}
