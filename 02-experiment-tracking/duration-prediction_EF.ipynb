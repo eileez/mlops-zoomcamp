{
 "cells": [
  {
   "cell_type": "code",
   "execution_count": null,
   "id": "b2bd82d7",
   "metadata": {},
   "outputs": [],
   "source": [
    "!python -V"
   ]
  },
  {
   "cell_type": "code",
   "execution_count": null,
   "id": "41062d8a",
   "metadata": {},
   "outputs": [],
   "source": [
    "import pandas as pd\n",
    "import numpy as np\n",
    "import seaborn as sns\n",
    "import matplotlib.pyplot as plt\n",
    "import os"
   ]
  },
  {
   "cell_type": "code",
   "execution_count": null,
   "id": "68f64d52",
   "metadata": {},
   "outputs": [],
   "source": [
    "import mlflow\n",
    "\n",
    "mlflow.set_tracking_uri(\"sqlite:///mlflow.db\")\n",
    "mlflow.set_experiment(\"nyc-taxi-experiment\")"
   ]
  },
  {
   "cell_type": "markdown",
   "id": "38bc2e70",
   "metadata": {},
   "source": [
    "## Load data"
   ]
  },
  {
   "cell_type": "markdown",
   "id": "c225b036",
   "metadata": {},
   "source": [
    "Data information :\n",
    "- `lpep_pickup_datetime` : The date and time when the meter was engaged.\n",
    "- `lpep_dropoff_datetime` : The date and time when the meter was disengaged.\n",
    "- `PULocationID` : TLC Taxi Zone in which the taximeter was engaged. \n",
    "- `DOlocationID` : TLC Taxi Zone in which the taximeter was disengaged. \n",
    "- `trip_distance` : The elapsed trip distance in miles reported by the taximeter."
   ]
  },
  {
   "cell_type": "code",
   "execution_count": null,
   "id": "0d137dc5",
   "metadata": {},
   "outputs": [],
   "source": [
    "%time df = pd.read_parquet('./data/green_tripdata_2021-01.parquet')\n",
    "print(df.shape)\n",
    "df.head(5)"
   ]
  },
  {
   "cell_type": "markdown",
   "id": "627d91e9",
   "metadata": {},
   "source": [
    "## Data analysis & transformation"
   ]
  },
  {
   "cell_type": "code",
   "execution_count": null,
   "id": "6cf14353",
   "metadata": {},
   "outputs": [],
   "source": [
    "# Data analysis\n",
    "df.dtypes"
   ]
  },
  {
   "cell_type": "code",
   "execution_count": null,
   "id": "d8a2c0b4",
   "metadata": {},
   "outputs": [],
   "source": [
    "# Data transformation\n",
    "df[\"duration\"] = df[\"lpep_dropoff_datetime\"] - df[\"lpep_pickup_datetime\"]\n",
    "df[\"duration\"]"
   ]
  },
  {
   "cell_type": "code",
   "execution_count": null,
   "id": "2ce97501",
   "metadata": {},
   "outputs": [],
   "source": [
    "td = df.duration.iloc[0]\n",
    "td"
   ]
  },
  {
   "cell_type": "code",
   "execution_count": null,
   "id": "b466e5b7",
   "metadata": {},
   "outputs": [],
   "source": [
    "td.total_seconds()"
   ]
  },
  {
   "cell_type": "code",
   "execution_count": null,
   "id": "99c0b0d8",
   "metadata": {},
   "outputs": [],
   "source": [
    "df.duration = df.duration.apply(lambda td: td.total_seconds() / 60)\n",
    "df.duration"
   ]
  },
  {
   "cell_type": "code",
   "execution_count": null,
   "id": "80aa9cf6",
   "metadata": {},
   "outputs": [],
   "source": [
    "df.duration.describe(percentiles=[0.01, 0.02, 0.05, 0.95, 0.98, 0.99])\n",
    "# 99% of trips have a duration < 67.16 minutes\n",
    "# we can keep duration values >= 1 and <= 60"
   ]
  },
  {
   "cell_type": "code",
   "execution_count": null,
   "id": "20cd78a2",
   "metadata": {},
   "outputs": [],
   "source": [
    "# apply filter\n",
    "df = df[(df[\"duration\"] >= 1) & (df[\"duration\"] <= 60)]\n",
    "# check distribution\n",
    "df.duration.describe()"
   ]
  },
  {
   "cell_type": "code",
   "execution_count": null,
   "id": "7df664cc",
   "metadata": {},
   "outputs": [],
   "source": [
    "sns.kdeplot(data=df, x=\"duration\")"
   ]
  },
  {
   "cell_type": "code",
   "execution_count": null,
   "id": "a2c508bb",
   "metadata": {},
   "outputs": [],
   "source": [
    "# selection of variables\n",
    "df[[\"PULocationID\", \"DOLocationID\"]].nunique()"
   ]
  },
  {
   "cell_type": "code",
   "execution_count": null,
   "id": "a140016a",
   "metadata": {},
   "outputs": [],
   "source": [
    "df[\"PULocationID\"].value_counts()"
   ]
  },
  {
   "cell_type": "code",
   "execution_count": null,
   "id": "658173a8",
   "metadata": {},
   "outputs": [],
   "source": [
    "sns.histplot(data=df, x=\"PULocationID\", legend=True)\n",
    "sns.histplot(data=df, x=\"DOLocationID\", ax=plt.gca(), color=\"orange\", legend=True)\n",
    "plt.legend()\n",
    "plt.show()"
   ]
  },
  {
   "cell_type": "code",
   "execution_count": null,
   "id": "381e4498",
   "metadata": {},
   "outputs": [],
   "source": [
    "# convert trip_distance unit from miles to km\n",
    "df.trip_distance = df.trip_distance.apply(lambda x: x / 1.609344)\n",
    "sns.kdeplot(data=df, x=\"trip_distance\")"
   ]
  },
  {
   "cell_type": "code",
   "execution_count": null,
   "id": "281c3c5a",
   "metadata": {},
   "outputs": [],
   "source": [
    "df.trip_distance.describe(percentiles=[0.01, 0.02, 0.05, 0.95, 0.98, 0.99])\n",
    "# variable trip_distance also contains outliers"
   ]
  },
  {
   "cell_type": "code",
   "execution_count": null,
   "id": "f0e54667",
   "metadata": {},
   "outputs": [],
   "source": [
    "# apply filter on trip_distance\n",
    "print(df.shape)\n",
    "max = np.percentile(df.trip_distance, q=99)\n",
    "df = df[(df[\"trip_distance\"] > 0) & (df[\"trip_distance\"] <= max)]\n",
    "print(df.shape)"
   ]
  },
  {
   "cell_type": "code",
   "execution_count": null,
   "id": "600799eb",
   "metadata": {},
   "outputs": [],
   "source": [
    "sns.kdeplot(data=df, x=\"trip_distance\")"
   ]
  },
  {
   "cell_type": "markdown",
   "id": "496e274c",
   "metadata": {},
   "source": [
    "## Target & feature selection"
   ]
  },
  {
   "cell_type": "code",
   "execution_count": null,
   "id": "994b97ad",
   "metadata": {},
   "outputs": [],
   "source": [
    "# feature selection\n",
    "# categorical variables :\n",
    "# cat_cols = [\"PULocationID\", \"DOLocationID\"]\n",
    "# since both variables do not really give information separately, we should link them together to represent their interaction\n",
    "# (kind of like a graph dependancy)\n",
    "# convert int to str\n",
    "df[[\"PULocationID\", \"DOLocationID\"]] = df[[\"PULocationID\", \"DOLocationID\"]].astype(str)\n",
    "df[\"PU_DO\"] = df[\"PULocationID\"] + \"_\" + df[\"DOLocationID\"]\n",
    "cat_cols = [\"PU_DO\"]\n",
    "\n",
    "# numerical variables\n",
    "num_cols = [\"trip_distance\"]"
   ]
  },
  {
   "cell_type": "code",
   "execution_count": null,
   "id": "675a8a67",
   "metadata": {},
   "outputs": [],
   "source": [
    "# apply one-hot-encoding\n",
    "from sklearn.preprocessing import OneHotEncoder\n",
    "\n",
    "encoder = OneHotEncoder(handle_unknown=\"ignore\")\n",
    "\n",
    "# test on \"PULocationID\"\n",
    "Xnew = encoder.fit_transform(df[[\"PULocationID\"]])\n",
    "Xnew"
   ]
  },
  {
   "cell_type": "code",
   "execution_count": null,
   "id": "738a0f90",
   "metadata": {},
   "outputs": [],
   "source": [
    "# define target and features\n",
    "X = df[cat_cols + num_cols]\n",
    "y = df[\"duration\"]\n",
    "y_log = np.log(df[\"duration\"])\n",
    "\n",
    "print(X.shape, y.shape, y_log.shape)"
   ]
  },
  {
   "cell_type": "code",
   "execution_count": null,
   "id": "a737ea4c",
   "metadata": {},
   "outputs": [],
   "source": [
    "sns.kdeplot(y)\n",
    "plt.show()\n",
    "\n",
    "sns.kdeplot(y_log)\n",
    "plt.show()"
   ]
  },
  {
   "cell_type": "code",
   "execution_count": null,
   "id": "5366c3bc",
   "metadata": {},
   "outputs": [],
   "source": [
    "# split train/val datasets\n",
    "from sklearn.model_selection import train_test_split\n",
    "\n",
    "X_train, X_valid, y_train, y_valid = train_test_split(\n",
    "    X, y, train_size=0.8, random_state=42\n",
    ")\n",
    "print(X_train.shape, y_train.shape)\n",
    "print(X_valid.shape, y_valid.shape)"
   ]
  },
  {
   "cell_type": "code",
   "execution_count": null,
   "id": "5a5cedeb",
   "metadata": {},
   "outputs": [],
   "source": [
    "# define data transformation\n",
    "from sklearn.compose import ColumnTransformer\n",
    "\n",
    "ct = ColumnTransformer(\n",
    "    [\n",
    "        (\"cat\", OneHotEncoder(handle_unknown=\"ignore\"), cat_cols),\n",
    "        (\"num\", \"passthrough\", num_cols),\n",
    "    ]\n",
    ")\n",
    "\n",
    "# apply data transformation\n",
    "# fit_transform on training dataset\n",
    "# transform on validation dataset\n",
    "\n",
    "X_train = ct.fit_transform(X_train)\n",
    "X_valid = ct.transform(X_valid)\n",
    "\n",
    "print(X_train.shape, X_valid.shape)"
   ]
  },
  {
   "cell_type": "markdown",
   "id": "97238c58",
   "metadata": {},
   "source": [
    "## Model training & evaluation"
   ]
  },
  {
   "cell_type": "code",
   "execution_count": null,
   "id": "df5612ca",
   "metadata": {},
   "outputs": [],
   "source": [
    "# model design\n",
    "\n",
    "from sklearn.linear_model import LinearRegression, Ridge, Lasso\n",
    "from sklearn.ensemble import RandomForestRegressor\n",
    "\n",
    "from sklearn.metrics import mean_squared_error, r2_score"
   ]
  },
  {
   "cell_type": "code",
   "execution_count": null,
   "id": "0e6fa544",
   "metadata": {},
   "outputs": [],
   "source": [
    "lr = LinearRegression()\n",
    "lr.fit(X_train, y_train)\n",
    "y_pred = lr.predict(X_valid)\n",
    "\n",
    "# plt.scatter(y_pred, y_valid)\n",
    "sns.kdeplot(y_valid, label=\"true_values\")\n",
    "sns.kdeplot(y_pred, label=\"predictions\")\n",
    "plt.legend()\n",
    "plt.show()\n",
    "\n",
    "# scores\n",
    "## r2\n",
    "plt.scatter(y_valid, y_pred, alpha=0.5)\n",
    "plt.ylabel(\"true_values\")\n",
    "plt.xlabel(\"predictions\")\n",
    "# add y=x\n",
    "sample_y = np.arange(y_valid.min(), y_valid.max())\n",
    "plt.plot(sample_y, sample_y, color=\"k\")\n",
    "plt.show()\n",
    "\n",
    "r2 = r2_score(y_valid, y_pred)\n",
    "\n",
    "## rmse\n",
    "rmse = np.sqrt(mean_squared_error(y_valid, y_pred))\n",
    "print(\"r2 : \", r2)\n",
    "print(\"rmse: \", rmse)"
   ]
  },
  {
   "cell_type": "code",
   "execution_count": null,
   "id": "52648102",
   "metadata": {},
   "outputs": [],
   "source": [
    "rf = RandomForestRegressor(max_depth=10, n_estimators=500)\n",
    "%time rf.fit(X_train, y_train)\n",
    "\n",
    "y_pred = rf.predict(X_valid)\n",
    "\n",
    "# plt.scatter(y_pred, y_valid)\n",
    "sns.kdeplot(y_valid, label=\"true_values\")\n",
    "sns.kdeplot(y_pred, label=\"predictions\")\n",
    "plt.legend()\n",
    "plt.show()\n",
    "\n",
    "# scores\n",
    "## r2\n",
    "plt.scatter(y_valid, y_pred, alpha=0.5)\n",
    "plt.ylabel(\"true_values\")\n",
    "plt.xlabel(\"predictions\")\n",
    "# add y=x\n",
    "sample_y = np.arange(y_valid.min(), y_valid.max())\n",
    "plt.plot(sample_y, sample_y, color=\"k\")\n",
    "plt.show()\n",
    "\n",
    "r2 = r2_score(y_valid, y_pred)\n",
    "\n",
    "## rmse\n",
    "rmse = np.sqrt(mean_squared_error(y_valid, y_pred))\n",
    "print(\"r2 : \", r2)\n",
    "print(\"rmse: \", rmse)"
   ]
  },
  {
   "cell_type": "markdown",
   "id": "2c621b47",
   "metadata": {},
   "source": [
    "## Tracking experiments with MLFlow"
   ]
  },
  {
   "cell_type": "code",
   "execution_count": null,
   "id": "f85eddf1",
   "metadata": {},
   "outputs": [],
   "source": [
    "## level 1 : tracking manual runs\n",
    "\n",
    "with mlflow.start_run():\n",
    "    mlflow.set_tag(\"developer\", \"elizabeth\")\n",
    "\n",
    "    mlflow.log_param(\"train-data-path\", \"./data/green_tripdata_2021-01.parquet\")\n",
    "    mlflow.log_param(\"train_size\", 0.8)\n",
    "\n",
    "    alpha = 0.01\n",
    "    mlflow.log_param(\"alpha\", alpha)\n",
    "\n",
    "    ridge = Ridge(alpha=alpha)\n",
    "    ridge.fit(X_train, y_train)\n",
    "    y_pred = ridge.predict(X_valid)\n",
    "\n",
    "    # plt.scatter(y_pred, y_valid)\n",
    "    sns.kdeplot(y_valid, label=\"true_values\")\n",
    "    sns.kdeplot(y_pred, label=\"predictions\")\n",
    "    plt.legend()\n",
    "    plt.show()\n",
    "\n",
    "    # scores\n",
    "    ## r2\n",
    "    plt.scatter(y_valid, y_pred, alpha=0.5)\n",
    "    plt.ylabel(\"true_values\")\n",
    "    plt.xlabel(\"predictions\")\n",
    "    # add y=x\n",
    "    sample_y = np.arange(y_valid.min(), y_valid.max())\n",
    "    plt.plot(sample_y, sample_y, color=\"k\")\n",
    "    plt.show()\n",
    "\n",
    "    r2 = r2_score(y_valid, y_pred)\n",
    "    mlflow.log_metric(\"r2_score\", r2)\n",
    "\n",
    "    ## rmse\n",
    "    rmse = np.sqrt(mean_squared_error(y_valid, y_pred))\n",
    "    print(\"r2 : \", r2)\n",
    "    print(\"rmse: \", rmse)\n",
    "    mlflow.log_metric(\"rmse\", rmse)"
   ]
  },
  {
   "cell_type": "code",
   "execution_count": null,
   "id": "b99147f4",
   "metadata": {},
   "outputs": [],
   "source": [
    "## level 2 : tracking hyperparametrization of models (ex: randomforest)\n",
    "\n",
    "from sklearn.model_selection import (\n",
    "    GridSearchCV,\n",
    "    RandomizedSearchCV,\n",
    "    ParameterGrid,\n",
    ")\n",
    "\n",
    "# define parameter grid\n",
    "param_grid = {\n",
    "    \"n_estimators\": [100, 300, 500],\n",
    "    \"max_depth\": [10, 20, 30],\n",
    "    #'min_samples_split': [2, 5, 10],\n",
    "    #'min_samples_leaf': [1, 2, 4],\n",
    "    #'max_features': ['sqrt', 'log2'],\n",
    "    #    'bootstrap': [True, False]\n",
    "}\n",
    "\n",
    "for params in ParameterGrid(param_grid):\n",
    "    # define the model\n",
    "    rf = RandomForestRegressor(**params, random_state=42)\n",
    "    rf.fit(X_train, y_train)  # train on your training data\n",
    "\n",
    "    y_pred = model.predict(X_valid)  # predict on validation data\n",
    "    rmse = np.sqrt(mean_squared_error(y_valid, y_pred))\n",
    "    r2 = r2_score(y_valid, y_pred)\n",
    "\n",
    "    # Log metrics and parameters in MLflow for each set of hyperparameter\n",
    "    with mlflow.start_run(run_name=\"RF_GridSearchCV\", nested=True):\n",
    "        mlflow.set_tag(\"developer\", \"elizabeth\")\n",
    "        mlflow.set_tag(\"model\", \"randomforest\")\n",
    "        mlflow.log_param(\"train-data-path\", \"./data/green_tripdata_2021-01.parquet\")\n",
    "        mlflow.log_param(\"train_size\", 0.8)\n",
    "        mlflow.log_params(params)\n",
    "        mlflow.log_metric(\"rmse\", rmse)\n",
    "        mlflow.log_metric(\"r2_score\", r2)\n",
    "\n",
    "    # save the best model\n",
    "    if rmse < best_rmse:\n",
    "        best_rmse = rmse\n",
    "        best_rf = rf"
   ]
  },
  {
   "cell_type": "markdown",
   "id": "5912ed3a",
   "metadata": {},
   "source": [
    "## Model & transformers save parameters"
   ]
  },
  {
   "cell_type": "code",
   "execution_count": null,
   "id": "3aa318a1",
   "metadata": {},
   "outputs": [],
   "source": [
    "import pickle"
   ]
  },
  {
   "cell_type": "code",
   "execution_count": null,
   "id": "22bf6f8b",
   "metadata": {},
   "outputs": [],
   "source": [
    "%%time \n",
    "# Save models\n",
    "# here we only save the models that were changed thanks to the experiment tracking\n",
    "with open(\"models/lr.bin\", \"wb\") as f_out:\n",
    "    pickle.dump((ct, lr), f_out)\n",
    "\n",
    "with open(\"models/best_rf.bin\", \"wb\") as f_out:\n",
    "    pickle.dump((ct, best_rf), f_out)\n"
   ]
  }
 ],
 "metadata": {
  "kernelspec": {
   "display_name": "exp-tracking-env",
   "language": "python",
   "name": "python3"
  },
  "language_info": {
   "codemirror_mode": {
    "name": "ipython",
    "version": 3
   },
   "file_extension": ".py",
   "mimetype": "text/x-python",
   "name": "python",
   "nbconvert_exporter": "python",
   "pygments_lexer": "ipython3",
   "version": "3.9.24"
  }
 },
 "nbformat": 4,
 "nbformat_minor": 5
}
